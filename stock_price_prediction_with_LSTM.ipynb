{
  "cells": [
    {
      "cell_type": "markdown",
      "metadata": {
        "id": "view-in-github",
        "colab_type": "text"
      },
      "source": [
        "<a href=\"https://colab.research.google.com/github/Han860207/decision_tree_to_estimate_real_estate_price/blob/main/stock_price_prediction_with_LSTM.ipynb\" target=\"_parent\"><img src=\"https://colab.research.google.com/assets/colab-badge.svg\" alt=\"Open In Colab\"/></a>"
      ]
    },
    {
      "cell_type": "code",
      "execution_count": 147,
      "id": "2ccdffcd",
      "metadata": {
        "id": "2ccdffcd"
      },
      "outputs": [],
      "source": [
        "from keras import Sequential\n",
        "from keras.layers import LSTM ,Input,Dense\n",
        "from keras.models import Model \n",
        "from keras.utils.vis_utils import plot_model\n",
        "from sklearn.preprocessing import MinMaxScaler\n",
        "import pandas as pd\n",
        "import numpy as np"
      ]
    },
    {
      "cell_type": "code",
      "execution_count": 148,
      "id": "d8b858c2",
      "metadata": {
        "id": "d8b858c2"
      },
      "outputs": [],
      "source": [
        "data = pd.read_csv('2330_history.csv')\n",
        "old_data = data[data.Date <'2018/01/01'].Close.values\n",
        "new_data = data[data.Date >='2018/01/01'].Close.values"
      ]
    },
    {
      "cell_type": "code",
      "execution_count": 149,
      "id": "1c5f8542",
      "metadata": {
        "collapsed": true,
        "id": "1c5f8542"
      },
      "outputs": [],
      "source": [
        "old_data= old_data.reshape(-1,1)\n",
        "new_data = new_data.reshape(-1,1)\n",
        "mms = MinMaxScaler()\n",
        "old_data = mms.fit_transform(old_data)\n",
        "old_data\n",
        "new_data = mms.fit_transform(new_data)\n",
        "\n"
      ]
    },
    {
      "cell_type": "code",
      "execution_count": 150,
      "id": "76798efe",
      "metadata": {
        "id": "76798efe"
      },
      "outputs": [],
      "source": [
        "train_x = []\n",
        "train_y = []\n",
        "test_x = []\n",
        "test_y = []\n",
        "for i in range(10,len(old_data)):\n",
        "    train_x.append(old_data[i-10:i-1,0])\n",
        "    train_y.append(old_data[i,0])\n",
        "for i in range(10,len(new_data)):\n",
        "    test_x.append(new_data[i-10:i-1,0])\n",
        "    test_y.append(new_data[i,0])\n",
        "train_x.reverse()\n",
        "train_y.reverse()\n",
        "test_x.reverse()\n",
        "test_y.reverse()\n",
        "train_x = np.array(train_x)\n",
        "train_y = np.array(train_y)\n",
        "test_x = np.array(test_x)\n",
        "test_y = np.array(test_y)\n",
        "train_x = train_x.reshape((train_x.shape[0],train_x.shape[1],1))\n",
        "train_y = train_y.reshape((train_y.shape[0],1))\n"
      ]
    },
    {
      "cell_type": "code",
      "execution_count": 151,
      "id": "5982055f",
      "metadata": {
        "id": "5982055f"
      },
      "outputs": [],
      "source": [
        "input_layer = Input((9,1))"
      ]
    },
    {
      "cell_type": "code",
      "execution_count": 152,
      "id": "95012e8d",
      "metadata": {
        "id": "95012e8d"
      },
      "outputs": [],
      "source": [
        "hidden1 = LSTM(100,batch_input_shape=(3,train_x.shape[0],3),return_sequences=False)(input_layer)"
      ]
    },
    {
      "cell_type": "code",
      "execution_count": 153,
      "id": "1ee53488",
      "metadata": {
        "id": "1ee53488"
      },
      "outputs": [],
      "source": [
        "output_layer = Dense(1)(hidden1)"
      ]
    },
    {
      "cell_type": "code",
      "execution_count": 154,
      "id": "c56dda20",
      "metadata": {
        "id": "c56dda20"
      },
      "outputs": [],
      "source": [
        "model = Model(inputs= input_layer , outputs = output_layer)"
      ]
    },
    {
      "cell_type": "code",
      "execution_count": 155,
      "id": "0ae1c042",
      "metadata": {
        "colab": {
          "base_uri": "https://localhost:8080/",
          "height": 272
        },
        "id": "0ae1c042",
        "outputId": "7b21366b-f586-4a80-8df9-62bda01868b4"
      },
      "outputs": [
        {
          "output_type": "execute_result",
          "data": {
            "image/png": "[encoded data removed]",
            "text/plain": [
              "<IPython.core.display.Image object>"
            ]
          },
          "metadata": {},
          "execution_count": 155
        }
      ],
      "source": [
        "plot_model(model)"
      ]
    },
    {
      "cell_type": "code",
      "source": [
        "model.compile(loss = 'mse',optimizer='adam')"
      ],
      "metadata": {
        "id": "B0IXSLWFMHPC"
      },
      "id": "B0IXSLWFMHPC",
      "execution_count": 156,
      "outputs": []
    },
    {
      "cell_type": "code",
      "source": [
        "history= model.fit(train_x,train_y,epochs=100,batch_size=16)"
      ],
      "metadata": {
        "id": "ZGmVw1nzMHRZ"
      },
      "id": "ZGmVw1nzMHRZ",
      "execution_count": null,
      "outputs": []
    },
    {
      "cell_type": "code",
      "source": [
        "import matplotlib.pyplot as plt\n",
        "plt.title('training_loss')\n",
        "plt.xlabel('training_times')\n",
        "plt.ylabel('loss')\n",
        "plt.plot(history.history['loss'])"
      ],
      "metadata": {
        "colab": {
          "base_uri": "https://localhost:8080/",
          "height": 314
        },
        "id": "xfcITCVhNmBF",
        "outputId": "df1051d0-3ffa-4b9a-f10c-5f57c1621442"
      },
      "id": "xfcITCVhNmBF",
      "execution_count": 158,
      "outputs": [
        {
          "output_type": "execute_result",
          "data": {
            "text/plain": [
              "[<matplotlib.lines.Line2D at 0x7fce71e6b890>]"
            ]
          },
          "metadata": {},
          "execution_count": 158
        },
        {
          "output_type": "display_data",
          "data": {
            "image/png": "[encoded data removed]",
            "text/plain": [
              "<Figure size 432x288 with 1 Axes>"
            ]
          },
          "metadata": {
            "needs_background": "light"
          }
        }
      ]
    },
    {
      "cell_type": "code",
      "source": [
        "pred = model.predict(test_x)"
      ],
      "metadata": {
        "id": "9gam-GobNmFA"
      },
      "id": "9gam-GobNmFA",
      "execution_count": 160,
      "outputs": []
    },
    {
      "cell_type": "code",
      "source": [
        "pred = mms.inverse_transform(pred)"
      ],
      "metadata": {
        "id": "vN-VEFHmQPap"
      },
      "id": "vN-VEFHmQPap",
      "execution_count": 161,
      "outputs": []
    },
    {
      "cell_type": "code",
      "source": [
        "eva = model.evaluate(test_x,test_y)\n",
        "eva"
      ],
      "metadata": {
        "colab": {
          "base_uri": "https://localhost:8080/"
        },
        "id": "tx1qgroWlwyf",
        "outputId": "e6f05446-8096-44c5-a787-590074915acb"
      },
      "id": "tx1qgroWlwyf",
      "execution_count": 174,
      "outputs": [
        {
          "output_type": "stream",
          "name": "stdout",
          "text": [
            "31/31 [==============================] - 0s 3ms/step - loss: 3.8398e-04\n"
          ]
        },
        {
          "output_type": "execute_result",
          "data": {
            "text/plain": [
              "0.0003839809796772897"
            ]
          },
          "metadata": {},
          "execution_count": 174
        }
      ]
    },
    {
      "cell_type": "code",
      "source": [
        "origin = data[data.Date >='2018/01/01'].Close.values\n",
        "origin = np.flip(origin)\n",
        "plt.title('2330 prediction with LSTM')\n",
        "plt.xlabel('time')\n",
        "plt.ylabel('price')\n",
        "plt.plot(pred[-100:])\n",
        "plt.plot(origin[-100:])"
      ],
      "metadata": {
        "colab": {
          "base_uri": "https://localhost:8080/",
          "height": 313
        },
        "id": "i-8aPfuZNmI_",
        "outputId": "c3c992dd-ff66-4b71-8880-1892fa774054"
      },
      "id": "i-8aPfuZNmI_",
      "execution_count": 175,
      "outputs": [
        {
          "output_type": "execute_result",
          "data": {
            "text/plain": [
              "[<matplotlib.lines.Line2D at 0x7fce47628e50>]"
            ]
          },
          "metadata": {},
          "execution_count": 175
        },
        {
          "output_type": "display_data",
          "data": {
            "image/png": "[encoded data removed]",
            "text/plain": [
              "<Figure size 432x288 with 1 Axes>"
            ]
          },
          "metadata": {
            "needs_background": "light"
          }
        }
      ]
    }
  ],
  "metadata": {
    "kernelspec": {
      "display_name": "Python 3",
      "language": "python",
      "name": "python3"
    },
    "language_info": {
      "codemirror_mode": {
        "name": "ipython",
        "version": 3
      },
      "file_extension": ".py",
      "mimetype": "text/x-python",
      "name": "python",
      "nbconvert_exporter": "python",
      "pygments_lexer": "ipython3",
      "version": "3.8.8"
    },
    "colab": {
      "name": "Untitled44.ipynb",
      "provenance": [],
      "include_colab_link": true
    },
    "accelerator": "GPU"
  },
  "nbformat": 4,
  "nbformat_minor": 5
}